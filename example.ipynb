{
 "cells": [
  {
   "cell_type": "code",
   "execution_count": 1,
   "metadata": {},
   "outputs": [
    {
     "name": "stderr",
     "output_type": "stream",
     "text": [
      "/media/wassname/SGIronWolf/projects5/2024/prob_jsonformer/.venv/lib/python3.9/site-packages/tqdm/auto.py:21: TqdmWarning: IProgress not found. Please update jupyter and ipywidgets. See https://ipywidgets.readthedocs.io/en/stable/user_install.html\n",
      "  from .autonotebook import tqdm as notebook_tqdm\n"
     ]
    },
    {
     "name": "stdout",
     "output_type": "stream",
     "text": [
      "Loading model and tokenizer...\n"
     ]
    },
    {
     "name": "stderr",
     "output_type": "stream",
     "text": [
      "/media/wassname/SGIronWolf/projects5/2024/prob_jsonformer/.venv/lib/python3.9/site-packages/huggingface_hub/file_download.py:1132: FutureWarning: `resume_download` is deprecated and will be removed in version 1.0.0. Downloads always resume when possible. If you want to force a new download, use `force_download=True`.\n",
      "  warnings.warn(\n",
      "`flash-attention` package not found, consider installing for better performance: No module named 'flash_attn'.\n",
      "Current `flash-attenton` does not support `window_size`. Either upgrade or use `attn_implementation='eager'`.\n",
      "Loading checkpoint shards: 100%|██████████| 4/4 [00:04<00:00,  1.10s/it]\n",
      "/media/wassname/SGIronWolf/projects5/2024/prob_jsonformer/.venv/lib/python3.9/site-packages/huggingface_hub/file_download.py:1132: FutureWarning: `resume_download` is deprecated and will be removed in version 1.0.0. Downloads always resume when possible. If you want to force a new download, use `force_download=True`.\n",
      "  warnings.warn(\n",
      "Special tokens have been added in the vocabulary, make sure the associated word embeddings are fine-tuned or trained.\n"
     ]
    },
    {
     "name": "stdout",
     "output_type": "stream",
     "text": [
      "Loaded model and tokenizer\n"
     ]
    }
   ],
   "source": [
    "from transformers import AutoModelForCausalLM, AutoTokenizer\n",
    "\n",
    "print(\"Loading model and tokenizer...\")\n",
    "# model_name = \"databricks/dolly-v2-3b\"\n",
    "model_name = \"failspy/kappa-3-phi-abliterated\"\n",
    "model = AutoModelForCausalLM.from_pretrained(\n",
    "    model_name,\n",
    "    use_cache=True,\n",
    "    #  device=\"cuda:0\",\n",
    "    #  device_map=\"auto\",\n",
    "    trust_remote_code=True,\n",
    ").to(\"cuda:0\")\n",
    "tokenizer = AutoTokenizer.from_pretrained(model_name, use_fast=True, use_cache=True)\n",
    "print(\"Loaded model and tokenizer\")"
   ]
  },
  {
   "cell_type": "markdown",
   "metadata": {},
   "source": [
    "# Scratch"
   ]
  },
  {
   "cell_type": "code",
   "execution_count": 65,
   "metadata": {},
   "outputs": [],
   "source": [
    "from jaxtyping import Float, Int\n",
    "import torch\n",
    "from torch.nn import functional as F\n",
    "from torch import Tensor\n",
    "from typing import List, Callable, Tuple, Dict, Optional\n",
    "import pandas as pd"
   ]
  },
  {
   "cell_type": "code",
   "execution_count": 43,
   "metadata": {},
   "outputs": [
    {
     "data": {
      "text/plain": [
       "[tensor([    1, 29871, 29896]),\n",
       " tensor([    1,   278, 18109, 11285]),\n",
       " tensor([    1,   278,   289,  4992, 12544])]"
      ]
     },
     "execution_count": 43,
     "metadata": {},
     "output_type": "execute_result"
    }
   ],
   "source": [
    "# initital state\n",
    "prompt = \"The necromancer in his tower, what's his top problem? \"\n",
    "choices = [\"1\", \"the skeleton\", \"the boney boys\"]\n",
    "choices_tokens = tokenizer(choices).input_ids\n",
    "choices_tokens = [torch.tensor(c) for c in choices_tokens]\n",
    "# current_tokens = torch.tensor([])\n",
    "\n",
    "# next\n",
    "input_ids = tokenizer([prompt], return_tensors=\"pt\").to(model.device).input_ids[0]\n",
    "choices_tokens\n",
    "\n",
    "# for each next choice, continue down the tree, recording the log probs"
   ]
  },
  {
   "cell_type": "code",
   "execution_count": 70,
   "metadata": {},
   "outputs": [
    {
     "name": "stdout",
     "output_type": "stream",
     "text": [
      "tensor([1]) current_tokens\n",
      "tensor([  1, 278]) current_tokens\n",
      "tensor([  1, 278, 289]) current_tokens\n",
      "tensor([   1,  278,  289, 4992]) current_tokens\n",
      "tensor([    1,   278,   289,  4992, 12544]) current_tokens\n",
      "tensor([    1,   278, 18109]) current_tokens\n",
      "tensor([    1,   278, 18109, 11285]) current_tokens\n",
      "tensor([    1, 29871]) current_tokens\n",
      "tensor([    1, 29871, 29896]) current_tokens\n"
     ]
    }
   ],
   "source": [
    "def get_valid_next_choices(choices_tokens, current_tokens):\n",
    "    next_choices = []\n",
    "    for choice_tokens in choices_tokens:\n",
    "        # if we have some more slots left\n",
    "        if len(current_tokens)<len(choice_tokens):\n",
    "            # see if current_tokens matches\n",
    "            if (choice_tokens[: len(current_tokens)] == current_tokens).all():\n",
    "                c = choice_tokens[len(current_tokens)].item()\n",
    "                next_choices.append(c)\n",
    "\n",
    "    next_choices = list(set(next_choices))\n",
    "    return torch.LongTensor(next_choices)\n",
    "\n",
    "\n",
    "def next(\n",
    "    input_ids: Int[Tensor, \"seq\"],\n",
    "    choice: Optional[Int[Tensor, \"\"]] = None,\n",
    "    prob: float = 1,\n",
    "    current_tokens: Int[Tensor, \"seq\"] = torch.LongTensor([]),\n",
    "    z=[],\n",
    "):\n",
    "    if choice is not None:\n",
    "        c = choice[None].to(current_tokens.device)\n",
    "        current_tokens = torch.cat([current_tokens, c], dim=-1)\n",
    "        print(current_tokens, 'current_tokens')\n",
    "        c = choice[None].to(input_ids.device)\n",
    "        input_ids = torch.cat([input_ids, c], dim=-1)\n",
    "\n",
    "    next_choices = get_valid_next_choices(choices_tokens, current_tokens)\n",
    "    if len(next_choices) == 0:\n",
    "        s = tokenizer.decode(current_tokens)\n",
    "        r = dict(tokens=current_tokens.cpu(), prob=prob, choice=s)\n",
    "        yield r\n",
    "    else:\n",
    "        o = model(input_ids[None])\n",
    "        logits_constrained = o.logits[0, -1][next_choices]\n",
    "        probs = F.softmax(logits_constrained, dim=-1)\n",
    "        for i in range(len(next_choices)):\n",
    "            next_choice = next_choices[i]\n",
    "            next_prob = prob * probs[i].item()\n",
    "            yield from next(\n",
    "                input_ids=input_ids,\n",
    "                choice=next_choice,\n",
    "                prob=next_prob,\n",
    "                current_tokens=current_tokens,\n",
    "                z=z + [i],\n",
    "            )\n",
    "\n",
    "\n",
    "r = list(next(input_ids=input_ids))"
   ]
  },
  {
   "cell_type": "code",
   "execution_count": 74,
   "metadata": {},
   "outputs": [
    {
     "data": {
      "text/html": [
       "<div>\n",
       "<style scoped>\n",
       "    .dataframe tbody tr th:only-of-type {\n",
       "        vertical-align: middle;\n",
       "    }\n",
       "\n",
       "    .dataframe tbody tr th {\n",
       "        vertical-align: top;\n",
       "    }\n",
       "\n",
       "    .dataframe thead th {\n",
       "        text-align: right;\n",
       "    }\n",
       "</style>\n",
       "<table border=\"1\" class=\"dataframe\">\n",
       "  <thead>\n",
       "    <tr style=\"text-align: right;\">\n",
       "      <th></th>\n",
       "      <th>prob</th>\n",
       "      <th>choice</th>\n",
       "    </tr>\n",
       "  </thead>\n",
       "  <tbody>\n",
       "    <tr>\n",
       "      <th>2</th>\n",
       "      <td>0.995732</td>\n",
       "      <td>&lt;s&gt; 1</td>\n",
       "    </tr>\n",
       "    <tr>\n",
       "      <th>0</th>\n",
       "      <td>0.004187</td>\n",
       "      <td>&lt;s&gt; the boney boys</td>\n",
       "    </tr>\n",
       "    <tr>\n",
       "      <th>1</th>\n",
       "      <td>0.000081</td>\n",
       "      <td>&lt;s&gt; the skeleton</td>\n",
       "    </tr>\n",
       "  </tbody>\n",
       "</table>\n",
       "</div>"
      ],
      "text/plain": [
       "       prob              choice\n",
       "2  0.995732               <s> 1\n",
       "0  0.004187  <s> the boney boys\n",
       "1  0.000081    <s> the skeleton"
      ]
     },
     "execution_count": 74,
     "metadata": {},
     "output_type": "execute_result"
    }
   ],
   "source": [
    "pd.DataFrame(r).sort_values(\"prob\", ascending=False).drop(columns=[\"tokens\"])"
   ]
  },
  {
   "cell_type": "markdown",
   "metadata": {},
   "source": [
    "# Continue"
   ]
  },
  {
   "cell_type": "code",
   "execution_count": null,
   "metadata": {},
   "outputs": [],
   "source": [
    "from prob_jsonformer.format import highlight_values\n",
    "from prob_jsonformer.main import Jsonformer\n",
    "\n",
    "ecomm = {\n",
    "    \"type\": \"object\",\n",
    "    \"properties\": {\n",
    "        \"store\": {\n",
    "            \"type\": \"object\",\n",
    "            \"properties\": {\n",
    "                \"name\": {\"type\": \"string\"},\n",
    "                \"location\": {\"type\": \"string\"},\n",
    "                \"inventory\": {\n",
    "                    \"type\": \"array\",\n",
    "                    \"items\": {\n",
    "                        \"type\": \"object\",\n",
    "                        \"properties\": {\n",
    "                            \"productId\": {\"type\": \"string\"},\n",
    "                            \"name\": {\"type\": \"string\"},\n",
    "                            \"description\": {\"type\": \"string\"},\n",
    "                            \"category\": {\"type\": \"string\"},\n",
    "                            \"price\": {\"type\": \"number\"},\n",
    "                            \"inStock\": {\"type\": \"boolean\"},\n",
    "                            \"rating\": {\"type\": \"number\"},\n",
    "                            \"images\": {\"type\": \"array\", \"items\": {\"type\": \"string\"}},\n",
    "                        },\n",
    "                    },\n",
    "                },\n",
    "            },\n",
    "        }\n",
    "    },\n",
    "}\n",
    "\n",
    "\n",
    "builder = Jsonformer(\n",
    "    model=model,\n",
    "    tokenizer=tokenizer,\n",
    "    json_schema=ecomm,\n",
    "    prompt=\"write a description about mike's ski shop which sells premium skis and snowboards\",\n",
    "    max_string_token_length=20,\n",
    ")\n",
    "\n",
    "print(\"Generating...\")\n",
    "output = builder()\n",
    "\n",
    "highlight_values(output)"
   ]
  },
  {
   "cell_type": "code",
   "execution_count": null,
   "metadata": {},
   "outputs": [],
   "source": [
    "car = {\n",
    "    \"type\": \"object\",\n",
    "    \"properties\": {\n",
    "        \"make\": {\"type\": \"string\"},\n",
    "        \"model\": {\"type\": \"string\"},\n",
    "        \"year\": {\"type\": \"number\"},\n",
    "        \"colors_available\": {\n",
    "            \"type\": \"array\",\n",
    "            \"items\": {\"type\": \"string\"},\n",
    "        },\n",
    "    },\n",
    "}\n",
    "\n",
    "builder = Jsonformer(\n",
    "    model=model,\n",
    "    tokenizer=tokenizer,\n",
    "    json_schema=car,\n",
    "    prompt=\"generate an example car\",\n",
    ")\n",
    "\n",
    "print(\"Generating...\")\n",
    "output = builder()\n",
    "\n",
    "highlight_values(output)"
   ]
  },
  {
   "cell_type": "code",
   "execution_count": null,
   "metadata": {},
   "outputs": [],
   "source": [
    "complex_car = {\n",
    "    \"type\": \"object\",\n",
    "    \"properties\": {\n",
    "        \"car\": {\n",
    "            \"type\": \"object\",\n",
    "            \"properties\": {\n",
    "                \"make\": {\"type\": \"string\"},\n",
    "                \"model\": {\"type\": \"string\"},\n",
    "                \"year\": {\"type\": \"number\"},\n",
    "                \"colors\": {\"type\": \"array\", \"items\": {\"type\": \"string\"}},\n",
    "                \"features\": {\n",
    "                    \"type\": \"object\",\n",
    "                    \"properties\": {\n",
    "                        \"audio\": {\n",
    "                            \"type\": \"object\",\n",
    "                            \"properties\": {\n",
    "                                \"brand\": {\"type\": \"string\"},\n",
    "                                \"speakers\": {\"type\": \"number\"},\n",
    "                                \"hasBluetooth\": {\"type\": \"boolean\"},\n",
    "                            },\n",
    "                        },\n",
    "                        \"safety\": {\n",
    "                            \"type\": \"object\",\n",
    "                            \"properties\": {\n",
    "                                \"airbags\": {\"type\": \"number\"},\n",
    "                                \"parkingSensors\": {\"type\": \"boolean\"},\n",
    "                                \"laneAssist\": {\"type\": \"boolean\"},\n",
    "                            },\n",
    "                        },\n",
    "                        \"performance\": {\n",
    "                            \"type\": \"object\",\n",
    "                            \"properties\": {\n",
    "                                \"engine\": {\"type\": \"string\"},\n",
    "                                \"horsepower\": {\"type\": \"number\"},\n",
    "                                \"topSpeed\": {\"type\": \"number\"},\n",
    "                            },\n",
    "                        },\n",
    "                    },\n",
    "                },\n",
    "            },\n",
    "        },\n",
    "        \"owner\": {\n",
    "            \"type\": \"object\",\n",
    "            \"properties\": {\n",
    "                \"firstName\": {\"type\": \"string\"},\n",
    "                \"lastName\": {\"type\": \"string\"},\n",
    "                \"age\": {\"type\": \"number\"},\n",
    "            },\n",
    "        },\n",
    "    },\n",
    "}\n",
    "builder = Jsonformer(\n",
    "    model=model,\n",
    "    tokenizer=tokenizer,\n",
    "    json_schema=complex_car,\n",
    "    prompt=\"generate an example Rolls Royce Phantom\",\n",
    ")\n",
    "\n",
    "print(\"Generating...\")\n",
    "output = builder()\n",
    "\n",
    "highlight_values(output)"
   ]
  }
 ],
 "metadata": {
  "kernelspec": {
   "display_name": ".venv",
   "language": "python",
   "name": "python3"
  },
  "language_info": {
   "codemirror_mode": {
    "name": "ipython",
    "version": 3
   },
   "file_extension": ".py",
   "mimetype": "text/x-python",
   "name": "python",
   "nbconvert_exporter": "python",
   "pygments_lexer": "ipython3",
   "version": "3.9.16"
  },
  "orig_nbformat": 4
 },
 "nbformat": 4,
 "nbformat_minor": 2
}
