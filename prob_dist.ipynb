{
 "cells": [
  {
   "cell_type": "code",
   "execution_count": 1,
   "metadata": {},
   "outputs": [],
   "source": [
    "# autoreload your package\n",
    "%load_ext autoreload\n",
    "%autoreload 2"
   ]
  },
  {
   "cell_type": "code",
   "execution_count": 2,
   "metadata": {},
   "outputs": [
    {
     "name": "stderr",
     "output_type": "stream",
     "text": [
      "/media/wassname/SGIronWolf/projects5/2024/prob_jsonformer/.venv/lib/python3.9/site-packages/tqdm/auto.py:21: TqdmWarning: IProgress not found. Please update jupyter and ipywidgets. See https://ipywidgets.readthedocs.io/en/stable/user_install.html\n",
      "  from .autonotebook import tqdm as notebook_tqdm\n"
     ]
    },
    {
     "name": "stdout",
     "output_type": "stream",
     "text": [
      "Loading model and tokenizer...\n"
     ]
    },
    {
     "name": "stderr",
     "output_type": "stream",
     "text": [
      "/media/wassname/SGIronWolf/projects5/2024/prob_jsonformer/.venv/lib/python3.9/site-packages/huggingface_hub/file_download.py:1132: FutureWarning: `resume_download` is deprecated and will be removed in version 1.0.0. Downloads always resume when possible. If you want to force a new download, use `force_download=True`.\n",
      "  warnings.warn(\n",
      "/media/wassname/SGIronWolf/projects5/2024/prob_jsonformer/.venv/lib/python3.9/site-packages/huggingface_hub/file_download.py:1132: FutureWarning: `resume_download` is deprecated and will be removed in version 1.0.0. Downloads always resume when possible. If you want to force a new download, use `force_download=True`.\n",
      "  warnings.warn(\n",
      "Special tokens have been added in the vocabulary, make sure the associated word embeddings are fine-tuned or trained.\n"
     ]
    },
    {
     "name": "stdout",
     "output_type": "stream",
     "text": [
      "Loaded model and tokenizer\n"
     ]
    }
   ],
   "source": [
    "from transformers import AutoModelForCausalLM, AutoTokenizer\n",
    "import torch\n",
    "from prob_jsonformer import Jsonformer\n",
    "\n",
    "print(\"Loading model and tokenizer...\")\n",
    "model_name = \"databricks/dolly-v2-3b\"\n",
    "model = AutoModelForCausalLM.from_pretrained(\n",
    "    model_name,\n",
    "    use_cache=True,\n",
    "    torch_dtype=torch.float16,\n",
    "    attn_implementation=\"eager\",\n",
    ").to(\"cuda:0\")\n",
    "tokenizer = AutoTokenizer.from_pretrained(model_name, use_fast=True, use_cache=True)\n",
    "tokenizer.padding_side = \"left\"\n",
    "print(\"Loaded model and tokenizer\")"
   ]
  },
  {
   "cell_type": "code",
   "execution_count": 13,
   "metadata": {},
   "outputs": [],
   "source": [
    "if tokenizer.pad_token_id is None:\n",
    "    tokenizer.pad_token_id = tokenizer.bos_token_id"
   ]
  },
  {
   "cell_type": "markdown",
   "metadata": {},
   "source": [
    "## Prob dist\n",
    "\n",
    "- Can LLM's sample from a distribution? http://people.csail.mit.edu/renda/llm-sampling-paper\n",
    "- Can they forecast events https://arxiv.org/abs/2402.07862"
   ]
  },
  {
   "cell_type": "code",
   "execution_count": 26,
   "metadata": {},
   "outputs": [],
   "source": [
    "from prob_jsonformer.prob_choice_tree import prob_choice_tree\n",
    "import pandas as pd"
   ]
  },
  {
   "cell_type": "code",
   "execution_count": 135,
   "metadata": {},
   "outputs": [
    {
     "data": {
      "text/plain": [
       "0     0.047619\n",
       "1     0.047619\n",
       "2     0.047619\n",
       "3     0.047619\n",
       "4     0.047619\n",
       "5     0.047619\n",
       "6     0.047619\n",
       "7     0.047619\n",
       "8     0.047619\n",
       "9     0.047619\n",
       "10    0.047619\n",
       "11    0.047619\n",
       "12    0.047619\n",
       "13    0.047619\n",
       "14    0.047619\n",
       "15    0.047619\n",
       "16    0.047619\n",
       "17    0.047619\n",
       "18    0.047619\n",
       "19    0.047619\n",
       "20    0.047619\n",
       "dtype: float64"
      ]
     },
     "execution_count": 135,
     "metadata": {},
     "output_type": "execute_result"
    }
   ],
   "source": [
    "def method0(choices):\n",
    "    \"\"\"\n",
    "    just generate many times\n",
    "    \"\"\"\n",
    "\n",
    "    toks = tokenizer.encode(prompt, return_tensors=\"pt\").to(\"cuda:0\")\n",
    "    data = []\n",
    "    for _ in range(100):\n",
    "        o = model.generate(\n",
    "            toks,\n",
    "            do_sample=True,\n",
    "            max_new_tokens=2,\n",
    "            temperature=1,\n",
    "            pad_token_id=tokenizer.pad_token_id\n",
    "        )\n",
    "        o = tokenizer.decode(o[0, -2:], skip_special_tokens=True)\n",
    "        try:\n",
    "            o = int(o)\n",
    "        except ValueError:\n",
    "            print(f\"Failed to convert to float `{o}\")\n",
    "            continue\n",
    "        if str(o) in choices:\n",
    "            data.append(o)\n",
    "        else:\n",
    "            print(f\"Generated `{o}` not in choices {choices}\")\n",
    "    d = pd.Series(data).value_counts(normalize=True).to_dict()\n",
    "\n",
    "    df = pd.DataFrame([d]).T\n",
    "    df.index = df.index.astype(int)\n",
    "    df = df.sort_index()\n",
    "    return df\n",
    "    # return torch.tensor(data)\n",
    "\n",
    "def method1(choices):\n",
    "    \"\"\"\n",
    "    Here we try each completion to get the hindsight probability of each choice\n",
    "\n",
    "    from https://github.com/1rgs/jsonformer/pull/19\n",
    "    \"\"\"\n",
    "    data = {}\n",
    "    for choice in choices:\n",
    "        n_option_tokens = tokenizer.encode(f'\"{choice}', add_special_tokens=False, return_tensors=\"pt\").shape[1]\n",
    "        toks = tokenizer.encode(prompt + f\"{choice}\", return_tensors=\"pt\").to(\"cuda:0\")\n",
    "        option_tokens = toks[0, -n_option_tokens:]\n",
    "        o = model.forward(\n",
    "            toks,\n",
    "        )\n",
    "        logits = o.logits[0, -n_option_tokens-1:]\n",
    "\n",
    "        probabilities = torch.softmax(logits, dim=1)\n",
    "        option_token_probabilities = probabilities[:-1][torch.arange(probabilities.shape[0]-1), option_tokens]\n",
    "        option_probability = torch.prod(option_token_probabilities)\n",
    "        data[choice] = option_probability.item()\n",
    "\n",
    "    df = pd.DataFrame([data]).T\n",
    "    df.index = df.index.astype(int)\n",
    "    df = df.sort_index()\n",
    "    return df\n",
    "\n",
    "\n",
    "def method2(choices):\n",
    "    \"\"\"\n",
    "    Useing logit constraints\n",
    "\n",
    "    https://github.com/1rgs/jsonformer/pull/41\n",
    "    \"\"\"\n",
    "    # TODO\n",
    "\n",
    "def method3(choices):\n",
    "    \"\"\"using my prob choice tree.\"\"\"\n",
    "    input_ids = tokenizer.encode(prompt, return_tensors=\"pt\").to(\n",
    "        model.device\n",
    "    )[0]\n",
    "    choice_tokens = tokenizer(choices).input_ids\n",
    "    choice_tokens = [torch.tensor(c) for c in choice_tokens]\n",
    "    r = prob_choice_tree(model, tokenizer, input_ids, choice_tokens)\n",
    "\n",
    "    df = pd.DataFrame(r).set_index('choice')\n",
    "    df['prob'] = df['prob'].astype(float)\n",
    "    df.index = df.index.astype(int)\n",
    "    df = df.sort_index()\n",
    "    return df\n",
    "\n",
    "\n",
    "\n",
    "prompt = \"\"\"Q: Please sample a number from the distribution [0, 20]: \n",
    "A: \"\"\"\n",
    "\n",
    "choices = [str(i) for i in range(21)]\n",
    "\n",
    "ideal_dist = pd.Series({str(i): 1/21 for i in range(21)})\n",
    "ideal_dist.index = ideal_dist.index.astype(int)\n",
    "ideal_dist"
   ]
  },
  {
   "cell_type": "code",
   "execution_count": null,
   "metadata": {},
   "outputs": [],
   "source": []
  },
  {
   "cell_type": "code",
   "execution_count": 145,
   "metadata": {},
   "outputs": [
    {
     "name": "stdout",
     "output_type": "stream",
     "text": [
      "Failed to convert to float `\n",
      "[\n",
      "Failed to convert to float `#### \n",
      "Failed to convert to float `\n",
      "[\n",
      "Failed to convert to float `\n",
      "Q\n",
      "Failed to convert to float `\n",
      "[\n",
      "Failed to convert to float `\n",
      "A\n",
      "Generated `22` not in choices ['0', '1', '2', '3', '4', '5', '6', '7', '8', '9', '10', '11', '12', '13', '14', '15', '16', '17', '18', '19', '20']\n",
      "Generated `21` not in choices ['0', '1', '2', '3', '4', '5', '6', '7', '8', '9', '10', '11', '12', '13', '14', '15', '16', '17', '18', '19', '20']\n",
      "Failed to convert to float `\t\t\t\n",
      "Generated `680` not in choices ['0', '1', '2', '3', '4', '5', '6', '7', '8', '9', '10', '11', '12', '13', '14', '15', '16', '17', '18', '19', '20']\n",
      "Generated `23` not in choices ['0', '1', '2', '3', '4', '5', '6', '7', '8', '9', '10', '11', '12', '13', '14', '15', '16', '17', '18', '19', '20']\n",
      "Failed to convert to float `\n",
      "Q\n",
      "Failed to convert to float `\t\t\t\n",
      "Failed to convert to float `\n",
      "[\n",
      "Generated `26` not in choices ['0', '1', '2', '3', '4', '5', '6', '7', '8', '9', '10', '11', '12', '13', '14', '15', '16', '17', '18', '19', '20']\n",
      "Failed to convert to float `\n",
      "B\n",
      "Failed to convert to float `\n",
      "[\n",
      "Failed to convert to float `\n",
      ">>>\n",
      "Generated `21` not in choices ['0', '1', '2', '3', '4', '5', '6', '7', '8', '9', '10', '11', '12', '13', '14', '15', '16', '17', '18', '19', '20']\n",
      "Failed to convert to float `\n",
      "-\n",
      "Failed to convert to float `\n",
      "B\n",
      "Failed to convert to float `\n",
      "[\n",
      "CPU times: user 3.8 s, sys: 22.6 ms, total: 3.82 s\n",
      "Wall time: 3.81 s\n"
     ]
    },
    {
     "data": {
      "text/html": [
       "<div>\n",
       "<style scoped>\n",
       "    .dataframe tbody tr th:only-of-type {\n",
       "        vertical-align: middle;\n",
       "    }\n",
       "\n",
       "    .dataframe tbody tr th {\n",
       "        vertical-align: top;\n",
       "    }\n",
       "\n",
       "    .dataframe thead th {\n",
       "        text-align: right;\n",
       "    }\n",
       "</style>\n",
       "<table border=\"1\" class=\"dataframe\">\n",
       "  <thead>\n",
       "    <tr style=\"text-align: right;\">\n",
       "      <th></th>\n",
       "      <th>0</th>\n",
       "    </tr>\n",
       "  </thead>\n",
       "  <tbody>\n",
       "    <tr>\n",
       "      <th>0</th>\n",
       "      <td>0.115385</td>\n",
       "    </tr>\n",
       "    <tr>\n",
       "      <th>1</th>\n",
       "      <td>0.038462</td>\n",
       "    </tr>\n",
       "    <tr>\n",
       "      <th>2</th>\n",
       "      <td>0.012821</td>\n",
       "    </tr>\n",
       "    <tr>\n",
       "      <th>3</th>\n",
       "      <td>0.025641</td>\n",
       "    </tr>\n",
       "    <tr>\n",
       "      <th>4</th>\n",
       "      <td>0.051282</td>\n",
       "    </tr>\n",
       "    <tr>\n",
       "      <th>5</th>\n",
       "      <td>0.025641</td>\n",
       "    </tr>\n",
       "    <tr>\n",
       "      <th>6</th>\n",
       "      <td>0.051282</td>\n",
       "    </tr>\n",
       "    <tr>\n",
       "      <th>7</th>\n",
       "      <td>0.051282</td>\n",
       "    </tr>\n",
       "    <tr>\n",
       "      <th>8</th>\n",
       "      <td>0.012821</td>\n",
       "    </tr>\n",
       "    <tr>\n",
       "      <th>10</th>\n",
       "      <td>0.128205</td>\n",
       "    </tr>\n",
       "    <tr>\n",
       "      <th>11</th>\n",
       "      <td>0.051282</td>\n",
       "    </tr>\n",
       "    <tr>\n",
       "      <th>12</th>\n",
       "      <td>0.025641</td>\n",
       "    </tr>\n",
       "    <tr>\n",
       "      <th>15</th>\n",
       "      <td>0.064103</td>\n",
       "    </tr>\n",
       "    <tr>\n",
       "      <th>16</th>\n",
       "      <td>0.025641</td>\n",
       "    </tr>\n",
       "    <tr>\n",
       "      <th>17</th>\n",
       "      <td>0.012821</td>\n",
       "    </tr>\n",
       "    <tr>\n",
       "      <th>18</th>\n",
       "      <td>0.025641</td>\n",
       "    </tr>\n",
       "    <tr>\n",
       "      <th>19</th>\n",
       "      <td>0.076923</td>\n",
       "    </tr>\n",
       "    <tr>\n",
       "      <th>20</th>\n",
       "      <td>0.205128</td>\n",
       "    </tr>\n",
       "  </tbody>\n",
       "</table>\n",
       "</div>"
      ],
      "text/plain": [
       "           0\n",
       "0   0.115385\n",
       "1   0.038462\n",
       "2   0.012821\n",
       "3   0.025641\n",
       "4   0.051282\n",
       "5   0.025641\n",
       "6   0.051282\n",
       "7   0.051282\n",
       "8   0.012821\n",
       "10  0.128205\n",
       "11  0.051282\n",
       "12  0.025641\n",
       "15  0.064103\n",
       "16  0.025641\n",
       "17  0.012821\n",
       "18  0.025641\n",
       "19  0.076923\n",
       "20  0.205128"
      ]
     },
     "execution_count": 145,
     "metadata": {},
     "output_type": "execute_result"
    },
    {
     "data": {
      "image/png": "[encoded data removed]",
      "text/plain": [
       "<Figure size 640x480 with 1 Axes>"
      ]
     },
     "metadata": {},
     "output_type": "display_data"
    }
   ],
   "source": [
    "%%time\n",
    "r0 = method0(choices)\n",
    "r0.plot.hist()\n",
    "r0"
   ]
  },
  {
   "cell_type": "code",
   "execution_count": 146,
   "metadata": {},
   "outputs": [
    {
     "name": "stdout",
     "output_type": "stream",
     "text": [
      "CPU times: user 489 ms, sys: 0 ns, total: 489 ms\n",
      "Wall time: 481 ms\n"
     ]
    },
    {
     "data": {
      "text/html": [
       "<div>\n",
       "<style scoped>\n",
       "    .dataframe tbody tr th:only-of-type {\n",
       "        vertical-align: middle;\n",
       "    }\n",
       "\n",
       "    .dataframe tbody tr th {\n",
       "        vertical-align: top;\n",
       "    }\n",
       "\n",
       "    .dataframe thead th {\n",
       "        text-align: right;\n",
       "    }\n",
       "</style>\n",
       "<table border=\"1\" class=\"dataframe\">\n",
       "  <thead>\n",
       "    <tr style=\"text-align: right;\">\n",
       "      <th></th>\n",
       "      <th>0</th>\n",
       "    </tr>\n",
       "  </thead>\n",
       "  <tbody>\n",
       "    <tr>\n",
       "      <th>0</th>\n",
       "      <td>0.011559</td>\n",
       "    </tr>\n",
       "    <tr>\n",
       "      <th>1</th>\n",
       "      <td>0.011833</td>\n",
       "    </tr>\n",
       "    <tr>\n",
       "      <th>2</th>\n",
       "      <td>0.015434</td>\n",
       "    </tr>\n",
       "    <tr>\n",
       "      <th>3</th>\n",
       "      <td>0.019974</td>\n",
       "    </tr>\n",
       "    <tr>\n",
       "      <th>4</th>\n",
       "      <td>0.029968</td>\n",
       "    </tr>\n",
       "    <tr>\n",
       "      <th>5</th>\n",
       "      <td>0.050995</td>\n",
       "    </tr>\n",
       "    <tr>\n",
       "      <th>6</th>\n",
       "      <td>0.027298</td>\n",
       "    </tr>\n",
       "    <tr>\n",
       "      <th>7</th>\n",
       "      <td>0.024841</td>\n",
       "    </tr>\n",
       "    <tr>\n",
       "      <th>8</th>\n",
       "      <td>0.028168</td>\n",
       "    </tr>\n",
       "    <tr>\n",
       "      <th>9</th>\n",
       "      <td>0.022278</td>\n",
       "    </tr>\n",
       "    <tr>\n",
       "      <th>10</th>\n",
       "      <td>0.037292</td>\n",
       "    </tr>\n",
       "    <tr>\n",
       "      <th>11</th>\n",
       "      <td>0.019974</td>\n",
       "    </tr>\n",
       "    <tr>\n",
       "      <th>12</th>\n",
       "      <td>0.029510</td>\n",
       "    </tr>\n",
       "    <tr>\n",
       "      <th>13</th>\n",
       "      <td>0.012108</td>\n",
       "    </tr>\n",
       "    <tr>\n",
       "      <th>14</th>\n",
       "      <td>0.012688</td>\n",
       "    </tr>\n",
       "    <tr>\n",
       "      <th>15</th>\n",
       "      <td>0.011642</td>\n",
       "    </tr>\n",
       "    <tr>\n",
       "      <th>16</th>\n",
       "      <td>0.003839</td>\n",
       "    </tr>\n",
       "    <tr>\n",
       "      <th>17</th>\n",
       "      <td>0.004059</td>\n",
       "    </tr>\n",
       "    <tr>\n",
       "      <th>18</th>\n",
       "      <td>0.003311</td>\n",
       "    </tr>\n",
       "    <tr>\n",
       "      <th>19</th>\n",
       "      <td>0.003721</td>\n",
       "    </tr>\n",
       "    <tr>\n",
       "      <th>20</th>\n",
       "      <td>0.007942</td>\n",
       "    </tr>\n",
       "  </tbody>\n",
       "</table>\n",
       "</div>"
      ],
      "text/plain": [
       "           0\n",
       "0   0.011559\n",
       "1   0.011833\n",
       "2   0.015434\n",
       "3   0.019974\n",
       "4   0.029968\n",
       "5   0.050995\n",
       "6   0.027298\n",
       "7   0.024841\n",
       "8   0.028168\n",
       "9   0.022278\n",
       "10  0.037292\n",
       "11  0.019974\n",
       "12  0.029510\n",
       "13  0.012108\n",
       "14  0.012688\n",
       "15  0.011642\n",
       "16  0.003839\n",
       "17  0.004059\n",
       "18  0.003311\n",
       "19  0.003721\n",
       "20  0.007942"
      ]
     },
     "execution_count": 146,
     "metadata": {},
     "output_type": "execute_result"
    },
    {
     "data": {
      "image/png": "[encoded data removed]",
      "text/plain": [
       "<Figure size 640x480 with 1 Axes>"
      ]
     },
     "metadata": {},
     "output_type": "display_data"
    }
   ],
   "source": [
    "%%time\n",
    "r1 = method1(choices)\n",
    "r1.plot.hist()\n",
    "r1\n"
   ]
  },
  {
   "cell_type": "code",
   "execution_count": 147,
   "metadata": {},
   "outputs": [
    {
     "name": "stdout",
     "output_type": "stream",
     "text": [
      "CPU times: user 57.6 ms, sys: 5.43 ms, total: 63 ms\n",
      "Wall time: 48.5 ms\n"
     ]
    },
    {
     "data": {
      "text/html": [
       "<div>\n",
       "<style scoped>\n",
       "    .dataframe tbody tr th:only-of-type {\n",
       "        vertical-align: middle;\n",
       "    }\n",
       "\n",
       "    .dataframe tbody tr th {\n",
       "        vertical-align: top;\n",
       "    }\n",
       "\n",
       "    .dataframe thead th {\n",
       "        text-align: right;\n",
       "    }\n",
       "</style>\n",
       "<table border=\"1\" class=\"dataframe\">\n",
       "  <thead>\n",
       "    <tr style=\"text-align: right;\">\n",
       "      <th></th>\n",
       "      <th>prob</th>\n",
       "    </tr>\n",
       "    <tr>\n",
       "      <th>choice</th>\n",
       "      <th></th>\n",
       "    </tr>\n",
       "  </thead>\n",
       "  <tbody>\n",
       "    <tr>\n",
       "      <th>0</th>\n",
       "      <td>0.00838</td>\n",
       "    </tr>\n",
       "    <tr>\n",
       "      <th>1</th>\n",
       "      <td>0.00122</td>\n",
       "    </tr>\n",
       "    <tr>\n",
       "      <th>2</th>\n",
       "      <td>0.00229</td>\n",
       "    </tr>\n",
       "    <tr>\n",
       "      <th>3</th>\n",
       "      <td>0.00362</td>\n",
       "    </tr>\n",
       "    <tr>\n",
       "      <th>4</th>\n",
       "      <td>0.01500</td>\n",
       "    </tr>\n",
       "    <tr>\n",
       "      <th>5</th>\n",
       "      <td>0.04450</td>\n",
       "    </tr>\n",
       "    <tr>\n",
       "      <th>6</th>\n",
       "      <td>0.03930</td>\n",
       "    </tr>\n",
       "    <tr>\n",
       "      <th>7</th>\n",
       "      <td>0.12900</td>\n",
       "    </tr>\n",
       "    <tr>\n",
       "      <th>8</th>\n",
       "      <td>0.02750</td>\n",
       "    </tr>\n",
       "    <tr>\n",
       "      <th>9</th>\n",
       "      <td>0.09860</td>\n",
       "    </tr>\n",
       "    <tr>\n",
       "      <th>10</th>\n",
       "      <td>0.06270</td>\n",
       "    </tr>\n",
       "    <tr>\n",
       "      <th>11</th>\n",
       "      <td>0.06700</td>\n",
       "    </tr>\n",
       "    <tr>\n",
       "      <th>12</th>\n",
       "      <td>0.04800</td>\n",
       "    </tr>\n",
       "    <tr>\n",
       "      <th>13</th>\n",
       "      <td>0.06470</td>\n",
       "    </tr>\n",
       "    <tr>\n",
       "      <th>14</th>\n",
       "      <td>0.05620</td>\n",
       "    </tr>\n",
       "    <tr>\n",
       "      <th>15</th>\n",
       "      <td>0.07020</td>\n",
       "    </tr>\n",
       "    <tr>\n",
       "      <th>16</th>\n",
       "      <td>0.01910</td>\n",
       "    </tr>\n",
       "    <tr>\n",
       "      <th>17</th>\n",
       "      <td>0.09010</td>\n",
       "    </tr>\n",
       "    <tr>\n",
       "      <th>18</th>\n",
       "      <td>0.08470</td>\n",
       "    </tr>\n",
       "    <tr>\n",
       "      <th>19</th>\n",
       "      <td>0.04930</td>\n",
       "    </tr>\n",
       "    <tr>\n",
       "      <th>20</th>\n",
       "      <td>0.01900</td>\n",
       "    </tr>\n",
       "  </tbody>\n",
       "</table>\n",
       "</div>"
      ],
      "text/plain": [
       "           prob\n",
       "choice         \n",
       "0       0.00838\n",
       "1       0.00122\n",
       "2       0.00229\n",
       "3       0.00362\n",
       "4       0.01500\n",
       "5       0.04450\n",
       "6       0.03930\n",
       "7       0.12900\n",
       "8       0.02750\n",
       "9       0.09860\n",
       "10      0.06270\n",
       "11      0.06700\n",
       "12      0.04800\n",
       "13      0.06470\n",
       "14      0.05620\n",
       "15      0.07020\n",
       "16      0.01910\n",
       "17      0.09010\n",
       "18      0.08470\n",
       "19      0.04930\n",
       "20      0.01900"
      ]
     },
     "execution_count": 147,
     "metadata": {},
     "output_type": "execute_result"
    },
    {
     "data": {
      "image/png": "[encoded data removed]",
      "text/plain": [
       "<Figure size 640x480 with 1 Axes>"
      ]
     },
     "metadata": {},
     "output_type": "display_data"
    }
   ],
   "source": [
    "%%time\n",
    "r3 = method3(choices)\n",
    "r3.plot.hist()\n",
    "r3"
   ]
  },
  {
   "cell_type": "code",
   "execution_count": 139,
   "metadata": {},
   "outputs": [
    {
     "data": {
      "text/plain": [
       "<Axes: >"
      ]
     },
     "execution_count": 139,
     "metadata": {},
     "output_type": "execute_result"
    },
    {
     "data": {
      "image/png": "[encoded data removed]",
      "text/plain": [
       "<Figure size 640x480 with 1 Axes>"
      ]
     },
     "metadata": {},
     "output_type": "display_data"
    }
   ],
   "source": [
    "df = pd.concat([r0, r1, r3, ideal_dist], axis=1)\n",
    "df.columns = ['method0', 'method1', 'method3', 'ideal']\n",
    "df = df.sort_index().fillna(0)\n",
    "df.plot.bar()"
   ]
  },
  {
   "cell_type": "code",
   "execution_count": 143,
   "metadata": {},
   "outputs": [
    {
     "name": "stdout",
     "output_type": "stream",
     "text": [
      "MAE coverage (smaller is better\n"
     ]
    },
    {
     "data": {
      "text/plain": [
       "method0    0.769524\n",
       "method1    0.618316\n",
       "method3    0.592971\n",
       "dtype: float64"
      ]
     },
     "execution_count": 143,
     "metadata": {},
     "output_type": "execute_result"
    }
   ],
   "source": [
    "df_score = df / df['ideal'].values[:, None] - 1\n",
    "ratios = df_score.iloc[:21, :3]\n",
    "print('MAE coverage (smaller is better')\n",
    "ratios.abs().mean()"
   ]
  },
  {
   "cell_type": "code",
   "execution_count": 144,
   "metadata": {},
   "outputs": [
    {
     "name": "stdout",
     "output_type": "stream",
     "text": [
      "MSE coverage (smaller is better)\n"
     ]
    },
    {
     "data": {
      "text/plain": [
       "method0    1.056788\n",
       "method1    0.662643\n",
       "method3    0.720881\n",
       "dtype: float64"
      ]
     },
     "execution_count": 144,
     "metadata": {},
     "output_type": "execute_result"
    }
   ],
   "source": [
    "print('MSE coverage (smaller is better)')\n",
    "ratios.pow(2).mean().pow(0.5)"
   ]
  },
  {
   "cell_type": "code",
   "execution_count": null,
   "metadata": {},
   "outputs": [],
   "source": []
  },
  {
   "cell_type": "markdown",
   "metadata": {},
   "source": [
    "## Scratch, collapse probs"
   ]
  },
  {
   "cell_type": "code",
   "execution_count": 148,
   "metadata": {},
   "outputs": [],
   "source": [
    "# def collapse_probs(json_schema, generated_data, keys = []):\n",
    "\n",
    "#     # get current row\n",
    "#     schema = json_schema\n",
    "#     data = generated_data\n",
    "#     for key in keys[:-1]:\n",
    "#         print(schema)\n",
    "#         schema = schema[key]\n",
    "#         data = data[key]\n",
    "\n",
    "#     schema_type = schema[\"type\"]\n",
    "\n",
    "#     if schema_type == \"p_enum\":\n",
    "#         k = keys[-1]\n",
    "#         data[k] = data[k][0]['choice']\n",
    "#     elif schema_type == \"object\":\n",
    "#         k = \"properties\"\n",
    "#         for key in schema[\"properties\"]:\n",
    "#             data[\"properties\"] = collapse_probs(json_schema, generated_data, keys + [key])\n",
    "    \n",
    "#     return generated_data\n",
    "\n",
    "\n",
    "# list(collapse_probs(json_schema, generated_data))"
   ]
  }
 ],
 "metadata": {
  "kernelspec": {
   "display_name": ".venv",
   "language": "python",
   "name": "python3"
  },
  "language_info": {
   "codemirror_mode": {
    "name": "ipython",
    "version": 3
   },
   "file_extension": ".py",
   "mimetype": "text/x-python",
   "name": "python",
   "nbconvert_exporter": "python",
   "pygments_lexer": "ipython3",
   "version": "3.9.16"
  }
 },
 "nbformat": 4,
 "nbformat_minor": 2
}
